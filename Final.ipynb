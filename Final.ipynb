{
  "nbformat": 4,
  "nbformat_minor": 0,
  "metadata": {
    "colab": {
      "name": "Final.ipynb",
      "provenance": [],
      "collapsed_sections": []
    },
    "kernelspec": {
      "name": "python3",
      "display_name": "Python 3"
    }
  },
  "cells": [
    {
      "cell_type": "markdown",
      "metadata": {
        "id": "OM_R2YLi9LK9"
      },
      "source": [
        "<h1>Quora Insincere Questions Classification</h1>"
      ]
    },
    {
      "cell_type": "markdown",
      "metadata": {
        "id": "IzJh2N_49SEb"
      },
      "source": [
        "<h2>Importing Data</h2>"
      ]
    },
    {
      "cell_type": "code",
      "metadata": {
        "id": "q-cGPHLb4_wa"
      },
      "source": [
        "import re\n",
        "import pickle\n",
        "import numpy as np\n",
        "import pandas as pd\n",
        "from time import time\n",
        "from sklearn.metrics import f1_score\n",
        "import tensorflow as tf\n",
        "from tensorflow.keras.models import load_model\n",
        "from tensorflow.keras.preprocessing.sequence import pad_sequences"
      ],
      "execution_count": 10,
      "outputs": []
    },
    {
      "cell_type": "code",
      "metadata": {
        "id": "-SyV7Poi5oQ6"
      },
      "source": [
        "train_df = pd.read_csv(\"train.csv\")\n",
        "test_df = pd.read_csv(\"test.csv\")\n",
        "\n",
        "X_train = train_df.drop(['qid','target'], axis =1 ).values\n",
        "Y_train = train_df.target.values"
      ],
      "execution_count": null,
      "outputs": []
    },
    {
      "cell_type": "markdown",
      "metadata": {
        "id": "QhZpR5Su9wYC"
      },
      "source": [
        "<h2>Bahdanau Attention Model</h2>"
      ]
    },
    {
      "cell_type": "code",
      "metadata": {
        "id": "5mD0XsdOt3v2"
      },
      "source": [
        "class Attention(tf.keras.layers.Layer):\n",
        "    '''\n",
        "    Class the calculates score based on the scoring_function using Bahdanu attention mechanism.\n",
        "    '''\n",
        "    def __init__(self, att_units, name=None, **kwargs):\n",
        "        super(Attention, self).__init__(name=name)\n",
        "        #number of attention units to be provided\n",
        "        self.att_units = att_units\n",
        "        super(Attention, self).__init__(**kwargs)\n",
        "        \n",
        "        # Intialize variables needed for Concat score function here\n",
        "        self.W1=tf.keras.layers.Dense(att_units)\n",
        "        self.W2=tf.keras.layers.Dense(att_units)\n",
        "        self.V=tf.keras.layers.Dense(1)\n",
        "\n",
        "    def get_config(self):\n",
        "        \"\"\"\n",
        "        get_config method is used here to avoid issues while importing saved moel with attention custom layer\n",
        "        \"\"\"\n",
        "        config = super(Attention, self).get_config()\n",
        "        config.update({\"att_units\": self.att_units})\n",
        "        return config\n",
        "\n",
        "    def call(self,lstm_output, hidden_state):\n",
        "        \n",
        "        \"\"\"\n",
        "        hidden state shape == (batch_size, hidden size)\n",
        "        lstm output shape == (batch_size, max_length, hidden size)\n",
        "        \"\"\"\n",
        "        \n",
        "        #state_with_time_axis shape == (batch_size, 1, hidden size)\n",
        "        #we are doing this to broadcast addition along the time axis to calculate the score\n",
        "        state_with_time_axis = tf.expand_dims(hidden_state, 1)\n",
        "        \n",
        "        #score shape == (batch_size, max_length, 1)\n",
        "        #we get 1 at the last axis because we are applying score to self.V\n",
        "        #the shape of the tensor before applying self.V is (batch_size, max_length, units)\n",
        "        score = self.V(tf.nn.tanh(self.W1(state_with_time_axis) + self.W2(lstm_output)))\n",
        "\n",
        "        # attention_weights shape == (batch_size, max_length, 1)\n",
        "        attention_weights=tf.nn.softmax(score, axis=1)\n",
        "\n",
        "        # context_vector shape after sum == (batch_size, hidden_size)\n",
        "        context_vector = attention_weights*lstm_output\n",
        "        context_vector = tf.reduce_sum(context_vector, axis=1)  \n",
        "\n",
        "        return context_vector, attention_weights"
      ],
      "execution_count": 2,
      "outputs": []
    },
    {
      "cell_type": "markdown",
      "metadata": {
        "id": "uz0g1XlZ9KUN"
      },
      "source": [
        "<h2>Function to Predict : : final_func_1 ( X )</h2>"
      ]
    },
    {
      "cell_type": "markdown",
      "metadata": {
        "id": "7LteN2vi-Aeu"
      },
      "source": [
        "<h3>Requirements:</h3>\n",
        "\n",
        "<h5>1. <b>Pre-trained GloVe embedding file</b></h5>\n",
        "<pre>PATH :: \"/embeddings/glove_embedding.pkl\"\n",
        "CONTAINS :: Dictionary of words and their pre-trained embeddings</pre>\n",
        "\n",
        "<h5>2. <b>Preprocessing Files</b></h5>\n",
        "<pre>PATH :: \"/PreprocessingFiles/symbols.pkl\"\n",
        "CONTAINS :: Dictionary of symbols and their word meanings</pre>\n",
        "\n",
        "<pre>PATH :: \"/PreprocessingFiles/remove_characters.pkl\"\n",
        "CONTAINS :: String of characters to be removed</pre>\n",
        "\n",
        "<pre>PATH :: \"/PreprocessingFiles/contractions.pkl\"\n",
        "CONTAINS :: List of english known contractions</pre>\n",
        "\n",
        "<pre>PATH :: \"/PreprocessingFiles/characters_list.pkl\"\n",
        "CONTAINS :: List of characters of english language to keep in the text files</pre>\n",
        "\n",
        "<pre>PATH :: \"/PreprocessingFiles/replace_words.pkl\"\n",
        "CONTAINS :: Dictionary of mispelled and unknown worda of english language and their correct spelling & interpretations</pre>\n",
        "\n",
        "<h5>3. <b>Sequence Padding</b></h5>\n",
        "<pre>PATH :: \"/PreprocessingFiles/tokenizers.pkl\"\n",
        "CONTAINS :: keras tokenizer file</pre>\n"
      ]
    },
    {
      "cell_type": "markdown",
      "metadata": {
        "id": "3NvlKFD_BkH0"
      },
      "source": [
        "<h2>Final Function</h2>"
      ]
    },
    {
      "cell_type": "code",
      "metadata": {
        "id": "BWDTr7LDCRCA"
      },
      "source": [
        "\"\"\"Importing the GloVe Embedding file for preprocessing\"\"\"\n",
        "embedding = pickle.load(open(\"/embeddings/glove_embedding.pkl\", 'rb'))"
      ],
      "execution_count": null,
      "outputs": []
    },
    {
      "cell_type": "code",
      "metadata": {
        "id": "EvLCldGYI2sj"
      },
      "source": [
        "def final_func_1(input):\n",
        "    \n",
        "    \"\"\"\n",
        "    1. Preprocessing Files\n",
        "\n",
        "    PATH :: \"/PreprocessingFiles/symbols.pkl\"\n",
        "    CONTAINS :: Dictionary of symbols and their word meanings\n",
        "\n",
        "    PATH :: \"/PreprocessingFiles/remove_characters.pkl\"\n",
        "    CONTAINS :: String of characters to be removed\n",
        "\n",
        "    PATH :: \"/PreprocessingFiles/contractions.pkl\"\n",
        "    CONTAINS :: List of english known contractions\n",
        "\n",
        "    PATH :: \"/PreprocessingFiles/characters_list.pkl\"\n",
        "    CONTAINS :: List of characters of english language to keep in the text files\n",
        "    \n",
        "    PATH :: \"/PreprocessingFiles/replace_words.pkl\"\n",
        "    CONTAINS :: Dictionary of mispelled and unknown worda of english language and their correct spelling & interpretations\n",
        "    \n",
        "    2. Sequence Padding\n",
        "\n",
        "    PATH :: \"/PreprocessingFiles/tokenizers.pkl\"\n",
        "    CONTAINS :: keras tokenizer file\n",
        "    \"\"\"\n",
        "\n",
        "    \"\"\"\n",
        "    uploading pickle files\n",
        "    \"\"\"\n",
        "    start = time()\n",
        "    replace_symbols = pickle.load(open(\"/PreprocessingFiles/symbols.pkl\", 'rb'))\n",
        "    remove_chars = pickle.load(open(\"/PreprocessingFiles/remove_characters.pkl\", 'rb'))\n",
        "    contraction = pickle.load(open(\"/PreprocessingFiles/contractions.pkl\", 'rb'))\n",
        "    characters_list = pickle.load(open(\"/PreprocessingFiles/characters_to_keep.pkl\", 'rb'))\n",
        "    replace_word = pickle.load(open(\"/PreprocessingFiles/replace_words.pkl\", 'rb'))\n",
        "    tokenizer = pickle.load(open(\"/PreprocessingFiles/tokenizers.pkl\", 'rb'))\n",
        "\n",
        "    \"\"\"\n",
        "    preprocessing the data\n",
        "    \"\"\"\n",
        "    preprocessed_df = list() \n",
        "    for ele in input:\n",
        "        sent = ele[0]\n",
        "        #replacing symbols with their meanings\n",
        "        for sym in replace_symbols:\n",
        "            if sym in sent:\n",
        "                sent = sent.replace(sym, replace_symbols[sym])\n",
        "        #removing unwanted characters\n",
        "        translate_table = dict((ord(char), None) for char in remove_chars)\n",
        "        sent = sent.translate(translate_table)\n",
        "        #remove generic contraction\n",
        "        sent = ' '.join(word.replace(word,contraction[word]) if word in contraction else word for word in sent.split())\n",
        "        sent = re.sub(r\"\\\"s\", \" \", sent); sent = re.sub(r\"\\'s\", \" \", sent); sent = re.sub(r\"\\''s\", \" \", sent)\n",
        "        sent = re.sub(r\"n\\\"t\", \" not \", sent); sent = re.sub(r\"n\\''t\", \" not \", sent); sent = re.sub(r\"n\\'t\", \" not \", sent)\n",
        "        sent = re.sub(r\"\\'ll \", \" will\", sent); sent = re.sub(r\"\\''ll \", \" will\", sent); sent = re.sub(r\"\\\"ll \", \" will\", sent)\n",
        "        sent = re.sub(r\"\\'d \", \" would\", sent); sent = re.sub(r\"\\\"d \", \" would\", sent); sent = re.sub(r\"\\''d \", \" would\", sent)\n",
        "        sent = re.sub(r\"\\'ve \", \" have\", sent); sent = re.sub(r\"\\''ve \", \" have\", sent); sent = re.sub(r\"\\\"ve \", \" have\", sent)\n",
        "        sent = re.sub(r\"\\'re \", \" are \", sent); sent = re.sub(r\"\\'m \", \" am\", sent); sent = re.sub(r\"\\''m \",\" am\", sent)\n",
        "        sent = re.sub(r\"\\\"m \",\" am\", sent); sent = re.sub(\"\\s{2}\",\" \",sent)\n",
        "        sent = sent.strip()\n",
        "        #spacing of existing character\n",
        "        for char in characters_list:\n",
        "            if char in sent:\n",
        "                sent = sent.replace(char,\" \"+char+\" \")\n",
        "                sent = re.sub(\"\\s+\",\" \",sent)\n",
        "        #checking word format\n",
        "        wordList = sent.split()\n",
        "        for word in wordList:\n",
        "            if word not in embedding:\n",
        "                if word.lower() in embedding:\n",
        "                    sent = sent.replace(word, word.lower())\n",
        "                elif word.title() in embedding:\n",
        "                    sent = sent.replace(word, word.title())\n",
        "                elif word.upper() in embedding:\n",
        "                    sent = sent.replace(word, word.upper())\n",
        "            else:\n",
        "                pass\n",
        "        #replace values\n",
        "        sent = ' '.join(word.replace(word,replace_word[word]) if word in replace_word else word for word in sent.split())\n",
        "        #appending preprocessed sentences to a list\n",
        "        preprocessed_df.append(sent)\n",
        "\n",
        "    \"\"\"\n",
        "        padding of data\n",
        "    \"\"\"\n",
        "    #tonization and sequence padding of data\n",
        "    Xdata = tokenizer.texts_to_sequences(preprocessed_df)\n",
        "    Xdata = pad_sequences(Xdata, maxlen = 75, padding='post')\n",
        "  \n",
        "    print('Time for Preprocessing and Featursiation is :: {}  sec' .format(time() - start))\n",
        "\n",
        "    \"\"\"\n",
        "        predicting data\n",
        "    \"\"\"\n",
        "    now = time()\n",
        "    output = list()\n",
        "    model = load_model(\"/AttentionModel\", custom_objects={'Attention': Attention})\n",
        "    ypred = model.predict(Xdata, verbose=1)\n",
        "    threshold = {0.1: 0.612, 0.15: 0.642, 0.2: 0.66, 0.25: 0.671, 0.3: 0.676, 0.35: 0.678, 0.4: 0.679, 0.45: 0.673, 0.5: 0.665}\n",
        "    for i in ypred:\n",
        "        output.append((i[1]>max(threshold, key=threshold.get)).astype(int))\n",
        "\n",
        "    print('Time for inference is :: {}  sec' .format(time() - now))\n",
        "\n",
        "    return output"
      ],
      "execution_count": 25,
      "outputs": []
    },
    {
      "cell_type": "markdown",
      "metadata": {
        "id": "aRPRnvWAztlx"
      },
      "source": [
        "<h2>Single Data as Input and corresponding output</h2>\n",
        "\n",
        "<pre>\n",
        "output has 2 values. \n",
        "0 - Sincere Question\n",
        "1 - Insincere Question\n",
        "</pre>"
      ]
    },
    {
      "cell_type": "code",
      "metadata": {
        "id": "bQyGXKzl11-s",
        "outputId": "d26fef9a-61a6-460d-e14c-bf394593bc92",
        "colab": {
          "base_uri": "https://localhost:8080/"
        }
      },
      "source": [
        "#giving input file\n",
        "input = X_train[500:501]\n",
        "print(input)"
      ],
      "execution_count": 11,
      "outputs": [
        {
          "output_type": "stream",
          "text": [
            "[['What are the reasons for drug trafficking?']]\n"
          ],
          "name": "stdout"
        }
      ]
    },
    {
      "cell_type": "code",
      "metadata": {
        "id": "pv2B0APuOoNj",
        "outputId": "72a5c025-8a59-4d31-b0a9-9966dc46faad",
        "colab": {
          "base_uri": "https://localhost:8080/"
        }
      },
      "source": [
        "#getting output\n",
        "output = final_func_1(input)"
      ],
      "execution_count": 12,
      "outputs": [
        {
          "output_type": "stream",
          "text": [
            "Time for Preprocessing and padding is :: 0.254824161529541  sec\n",
            "1/1 [==============================] - 0s 2ms/step\n",
            "Time for inference is :: 2.851763963699341  sec\n"
          ],
          "name": "stdout"
        }
      ]
    },
    {
      "cell_type": "code",
      "metadata": {
        "id": "ZhQcWFjrPJld",
        "outputId": "0aac62a2-2d85-4002-9c34-864ec6e6a764",
        "colab": {
          "base_uri": "https://localhost:8080/"
        }
      },
      "source": [
        "print(output)"
      ],
      "execution_count": 13,
      "outputs": [
        {
          "output_type": "stream",
          "text": [
            "[0]\n"
          ],
          "name": "stdout"
        }
      ]
    },
    {
      "cell_type": "markdown",
      "metadata": {
        "id": "4VTE-3gY2fzH"
      },
      "source": [
        "<h2>Batch Input and Output</h2>"
      ]
    },
    {
      "cell_type": "code",
      "metadata": {
        "id": "Zk0fUtOCytpa",
        "outputId": "445965be-75b7-471e-d1ae-cabfc54f9e71",
        "colab": {
          "base_uri": "https://localhost:8080/"
        }
      },
      "source": [
        "#giving input file\n",
        "input = X_train[1000:1030]\n",
        "#getting output\n",
        "output = final_func_1(input)"
      ],
      "execution_count": 8,
      "outputs": [
        {
          "output_type": "stream",
          "text": [
            "Time for Preprocessing and padding is :: 0.2724735736846924  sec\n",
            "1/1 [==============================] - 0s 1ms/step\n",
            "Time for inference is :: 2.591470718383789  sec\n"
          ],
          "name": "stdout"
        }
      ]
    },
    {
      "cell_type": "code",
      "metadata": {
        "id": "fJ164Z2lO5GH",
        "outputId": "f0b90cbe-296f-4b9a-94a0-1842fd389756",
        "colab": {
          "base_uri": "https://localhost:8080/"
        }
      },
      "source": [
        "print(output)"
      ],
      "execution_count": 9,
      "outputs": [
        {
          "output_type": "stream",
          "text": [
            "[0, 0, 1, 0, 0, 0, 0, 0, 0, 0, 0, 0, 1, 0, 1, 0, 0, 0, 0, 0, 0, 1, 0, 0, 0, 0, 0, 0, 0, 0]\n"
          ],
          "name": "stdout"
        }
      ]
    },
    {
      "cell_type": "markdown",
      "metadata": {
        "id": "3GyL7gOZ3bYK"
      },
      "source": [
        "<h2>Function to Calculate f1_score : : final_func_2 (X, Y)</h2>"
      ]
    },
    {
      "cell_type": "code",
      "metadata": {
        "id": "OIGVOCQv3ZOY"
      },
      "source": [
        "def final_func_2(X, Y):\n",
        "    \"\"\"\n",
        "    Input :: X (Text Features), Y (Target Values)\n",
        "    Output :: f1_score\n",
        "    \"\"\"\n",
        "    return f1_score(Y,final_func_1(X)"
      ],
      "execution_count": null,
      "outputs": []
    },
    {
      "cell_type": "code",
      "metadata": {
        "id": "X850CR37OJ3Q"
      },
      "source": [
        ""
      ],
      "execution_count": null,
      "outputs": []
    },
    {
      "cell_type": "markdown",
      "metadata": {
        "id": "yq1PuhFfGZbx"
      },
      "source": [
        "<h2>Test Data </2>"
      ]
    },
    {
      "cell_type": "code",
      "metadata": {
        "id": "tfYf1XAODqtE",
        "outputId": "648bbf95-28cc-480b-a477-50a65103ff6a",
        "colab": {
          "base_uri": "https://localhost:8080/"
        }
      },
      "source": [
        "#getting input\n",
        "input = test_df.drop(['qid'], axis =1).values\n",
        "#getting output\n",
        "ypred = final_func_1(input)"
      ],
      "execution_count": 17,
      "outputs": [
        {
          "output_type": "stream",
          "text": [
            "Time for Preprocessing and padding is :: 57.08582925796509  sec\n",
            "11744/11744 [==============================] - 419s 36ms/step\n",
            "Time for inference is :: 423.80863070487976  sec\n"
          ],
          "name": "stdout"
        }
      ]
    },
    {
      "cell_type": "code",
      "metadata": {
        "id": "wk6nOYwuHELr"
      },
      "source": [
        "#submitting final data\n",
        "y_final = pd.read_csv(\"sample_submission.csv\").drop('prediction',axis=1)\n",
        "y_final['prediction'] = ypred\n",
        "y_final.to_csv('submission.csv', index=False)"
      ],
      "execution_count": 20,
      "outputs": []
    },
    {
      "cell_type": "code",
      "metadata": {
        "id": "x5VFUqHsLSRG",
        "outputId": "b246f117-1243-4d20-fcb8-a905b110a8bd",
        "colab": {
          "base_uri": "https://localhost:8080/",
          "height": 217
        }
      },
      "source": [
        "from IPython.display import Image\n",
        "Image(filename = \"/content/drive/My Drive/Quora_Insincere_Questions_Classification/final_score.jpg\" ,width = 1500 , height = 200)"
      ],
      "execution_count": 36,
      "outputs": [
        {
          "output_type": "execute_result",
          "data": {
            "image/jpeg": "[encoded data removed]",
            "text/plain": [
              "<IPython.core.display.Image object>"
            ]
          },
          "metadata": {
            "tags": [],
            "image/jpeg": {
              "width": 1500,
              "height": 200
            }
          },
          "execution_count": 36
        }
      ]
    }
  ]
}